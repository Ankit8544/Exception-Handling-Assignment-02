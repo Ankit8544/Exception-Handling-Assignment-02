{
 "cells": [
  {
   "cell_type": "markdown",
   "id": "c405de31-09a9-4ba2-8355-92427e575bdc",
   "metadata": {},
   "source": [
    "Q.No-01    Explain why we have to use the Exception class while creating a Custom Exception.\n",
    "\n",
    "Note: Here Exception class refers to the base class for all the exceptions.\n"
   ]
  },
  {
   "cell_type": "markdown",
   "id": "835b59fd-69c8-49a7-b734-a47c9c435feb",
   "metadata": {},
   "source": [
    "Ans:"
   ]
  },
  {
   "cell_type": "markdown",
   "id": "72cd1553-3a24-4e3c-aa29-adef9be7feb1",
   "metadata": {},
   "source": [
    "When creating a custom exception in most programming languages, it is generally recommended to derive your custom exception class from a base class provided by the language, such as `Exception` or `RuntimeException`."
   ]
  },
  {
   "cell_type": "markdown",
   "id": "35d31a4e-ab6c-4d97-8558-b84c0edaecf9",
   "metadata": {},
   "source": [
    "This practice offers several benefits:"
   ]
  },
  {
   "cell_type": "markdown",
   "id": "8f57c02a-990f-4241-940c-667d1adec9e1",
   "metadata": {},
   "source": [
    "1. **Consistency and clarity:** By deriving your custom exception from a base class, you adhere to a common convention followed by other developers. This makes your code more readable and understandable for other programmers who might interact with your codebase."
   ]
  },
  {
   "cell_type": "markdown",
   "id": "107aa5d3-c64c-496e-bc5f-c0192f4b6763",
   "metadata": {},
   "source": [
    "2. **Exception handling:** Exception handling mechanisms in programming languages often rely on the hierarchical structure of exceptions. By using a base class, you can catch multiple exceptions using a single `catch` block, simplifying your exception handling logic. For example, in Java, you can catch all exceptions derived from `Exception` by catching the `Exception` base class."
   ]
  },
  {
   "cell_type": "markdown",
   "id": "af0062dd-b255-499e-bee8-7b6e6b1637ba",
   "metadata": {},
   "source": [
    "3. **Polymorphism and extensibility:** By using a base class, your custom exception can be treated as an instance of the base class or any of its derived classes. This enables polymorphic behavior, allowing you to catch and handle exceptions at different levels of granularity. It also allows for future extensibility, as you can create additional derived exception classes to handle specific scenarios while maintaining a consistent exception hierarchy."
   ]
  },
  {
   "cell_type": "markdown",
   "id": "4ea95fc5-d076-4fd2-8755-b20fd177e582",
   "metadata": {},
   "source": [
    "4. **Standard functionality:** Base exception classes often provide standard functionality and properties that are useful for exception handling. These may include methods to retrieve exception details, stack traces, or additional context information. By deriving from the base class, you inherit these functionalities without having to implement them from scratch."
   ]
  },
  {
   "cell_type": "markdown",
   "id": "1f8300a8-1438-4530-8ff0-47d87e564942",
   "metadata": {},
   "source": [
    "5. **Integration with existing code and libraries:** When using third-party libraries or frameworks, they often expect exceptions to follow certain conventions or inherit from specific base classes. By adhering to these conventions, you ensure seamless integration with existing codebases and libraries, making it easier to understand and work with your custom exceptions."
   ]
  },
  {
   "cell_type": "markdown",
   "id": "b71c1fd2-783b-4561-b2cb-ee73b4ff3149",
   "metadata": {},
   "source": [
    "-------------------------------------------------------------------------------------------------------------------"
   ]
  },
  {
   "cell_type": "markdown",
   "id": "4eacba6b-8ea8-4239-b75d-868ad5876c1b",
   "metadata": {},
   "source": [
    "Q.No-02    Write a python program to print Python Exception Hierarchy."
   ]
  },
  {
   "cell_type": "markdown",
   "id": "72f3ad7d-350e-47dd-adaf-8d1f6e192d5d",
   "metadata": {},
   "source": [
    "Ans:"
   ]
  },
  {
   "cell_type": "markdown",
   "id": "68c52b34-e2cc-4cb7-9177-0534f1556309",
   "metadata": {},
   "source": [
    "The commonly used exception types in Python :-"
   ]
  },
  {
   "cell_type": "markdown",
   "id": "4f0282ff-11f3-40b2-a2e3-da4f6c829ca2",
   "metadata": {},
   "source": [
    "1.    Built-in Exceptions: These are the exceptions provided by the Python language itself. Examples include TypeError, ValueError, KeyError, IndexError, and ZeroDivisionError."
   ]
  },
  {
   "cell_type": "markdown",
   "id": "37b9e8f0-1fce-4ba4-ad38-0235af30411c",
   "metadata": {},
   "source": [
    "2.    IO-related Exceptions: These exceptions are generally related to input/output operations. Examples include IOError, FileNotFoundError, and PermissionError."
   ]
  },
  {
   "cell_type": "markdown",
   "id": "82ec09c3-1ff3-4bcd-bd3d-913f4126bb34",
   "metadata": {},
   "source": [
    "3.    Database-related Exceptions: When interacting with databases, you might encounter exceptions specific to database operations. The exact exceptions and their names depend on the database library or framework being used. For example, in the context of the Python SQLite library, you may encounter exceptions like sqlite3.OperationalError, sqlite3.IntegrityError, or sqlite3.DatabaseError."
   ]
  },
  {
   "cell_type": "markdown",
   "id": "eefed361-66f3-44ad-a6bb-96eb99abdeb0",
   "metadata": {},
   "source": [
    "4.    Networking-related Exceptions: Networking operations can involve exceptions related to network connectivity, protocols, and data transmission. The specific exceptions depend on the networking library or framework being used. Examples include socket.error, requests.exceptions.RequestException, or urllib.error.URLError."
   ]
  },
  {
   "cell_type": "markdown",
   "id": "8bcc3567-8a04-408e-a127-9f95696b0710",
   "metadata": {},
   "source": [
    "5.    Security-related Exceptions: Security-related exceptions are typically specific to the security mechanisms or libraries employed in your application. Examples might include exceptions related to authentication failures, encryption/decryption errors, or access control violations. The specific exceptions and their names depend on the security framework or library being used."
   ]
  },
  {
   "cell_type": "markdown",
   "id": "91e2c12f-5e6c-43f4-87cb-cfbc18dcc788",
   "metadata": {},
   "source": [
    "6.    System Exceptions: Python provides a set of system-level exceptions that are raised for low-level errors or exceptional conditions. These include exceptions like SystemExit, KeyboardInterrupt, MemoryError, OSError, and RuntimeError."
   ]
  },
  {
   "cell_type": "code",
   "execution_count": 7,
   "id": "2f555dcf-07a1-4e9f-9734-3bae9d1494ae",
   "metadata": {},
   "outputs": [],
   "source": [
    "import logging\n",
    "# Configure the first logger and its file handler\n",
    "Hierarchy_log = logging.getLogger('Hierarchy_log')\n",
    "Hierarchy_log.setLevel(logging.DEBUG)\n",
    "file_handler1 = logging.FileHandler('Hierarchy.log')\n",
    "file_handler1.setLevel(logging.DEBUG)\n",
    "formatter1 = logging.Formatter('%(name)s - %(levelname)s - %(message)s')\n",
    "file_handler1.setFormatter(formatter1)\n",
    "Hierarchy_log.addHandler(file_handler1)\n",
    "\n",
    "\n",
    "Hierarchy_log.info(\"Importing library\")\n",
    "import builtins\n",
    "import sqlite3\n",
    "import socket\n",
    "import urllib.error\n",
    "\n",
    "Hierarchy_log.info(\"Lets Create a class to categories Exception Hierarchy\")\n",
    "class ExceptionHierarchyPrinter:\n",
    "    def __init__(self):\n",
    "        self.indent = 0\n",
    "\n",
    "    def print_exception_hierarchy(self, exception_class):\n",
    "        self._print_exception_hierarchy(exception_class, self.indent)\n",
    "\n",
    "    def _print_exception_hierarchy(self, exception_class, indent):\n",
    "        print(' ' * indent + exception_class.__name__)\n",
    "        for subclass in exception_class.__subclasses__():\n",
    "            self._print_exception_hierarchy(subclass, indent + 4)\n",
    "    \n",
    "    Hierarchy_log.info(\"Define a Functon for Built-in Exception\")\n",
    "    def Built_in_Exceptions(self):\n",
    "        print(\"----- Built-in Exceptions -----\")\n",
    "        self.print_exception_hierarchy(builtins.BaseException)\n",
    "    \n",
    "    Hierarchy_log.info(\"Define a Functon for IO-related Exception\")\n",
    "    def IO_related_Exceptions(self):\n",
    "        print(\"\\n----- IO-related Exceptions -----\")\n",
    "        self.print_exception_hierarchy(IOError)\n",
    "    \n",
    "    Hierarchy_log.info(\"Define a Functon for Database-related Exception\")\n",
    "    def Database_related_Exceptions(self):\n",
    "        print(\"\\n----- Database-related Exceptions -----\")\n",
    "        self.print_exception_hierarchy(sqlite3.Error)\n",
    "    \n",
    "    Hierarchy_log.info(\"Define a Functon for Networking-related Exception\")\n",
    "    def Networking_related_Exceptions(self):\n",
    "        print(\"\\n----- Networking-related Exceptions -----\")\n",
    "        self.print_exception_hierarchy(socket.error)\n",
    "    \n",
    "    Hierarchy_log.info(\"Define a Functon for Security-related Exception\")\n",
    "    def Security_related_Exceptions(self):\n",
    "        print(\"\\n----- Security-related Exceptions -----\")\n",
    "        self.print_exception_hierarchy(urllib.error.URLError)\n",
    "    \n",
    "    Hierarchy_log.info(\"Define a Functon for System Exception\")\n",
    "    def System_Exceptions(self):\n",
    "        print(\"\\n----- System Exceptions -----\")\n",
    "        self.print_exception_hierarchy(SystemExit)"
   ]
  },
  {
   "cell_type": "code",
   "execution_count": 8,
   "id": "483149ae-e309-4cfe-bec7-b2b626c38a43",
   "metadata": {},
   "outputs": [],
   "source": [
    "Hierarchy_log.info(\"Creating an Object for exception\")\n",
    "exception_printer = ExceptionHierarchyPrinter()"
   ]
  },
  {
   "cell_type": "code",
   "execution_count": 9,
   "id": "8cfd0b0c-e6aa-4310-8088-3f760614ce7e",
   "metadata": {},
   "outputs": [
    {
     "name": "stdout",
     "output_type": "stream",
     "text": [
      "\n",
      "----- IO-related Exceptions -----\n",
      "OSError\n",
      "    ConnectionError\n",
      "        BrokenPipeError\n",
      "        ConnectionAbortedError\n",
      "        ConnectionRefusedError\n",
      "        ConnectionResetError\n",
      "            RemoteDisconnected\n",
      "    BlockingIOError\n",
      "    ChildProcessError\n",
      "    FileExistsError\n",
      "    FileNotFoundError\n",
      "    IsADirectoryError\n",
      "    NotADirectoryError\n",
      "    InterruptedError\n",
      "        InterruptedSystemCall\n",
      "    PermissionError\n",
      "    ProcessLookupError\n",
      "    TimeoutError\n",
      "    UnsupportedOperation\n",
      "    itimer_error\n",
      "    herror\n",
      "    gaierror\n",
      "    SSLError\n",
      "        SSLCertVerificationError\n",
      "        SSLZeroReturnError\n",
      "        SSLWantWriteError\n",
      "        SSLWantReadError\n",
      "        SSLSyscallError\n",
      "        SSLEOFError\n",
      "    Error\n",
      "        SameFileError\n",
      "    SpecialFileError\n",
      "    ExecError\n",
      "    ReadError\n",
      "    URLError\n",
      "        HTTPError\n",
      "        ContentTooShortError\n",
      "    BadGzipFile\n"
     ]
    }
   ],
   "source": [
    "Hierarchy_log.info(\"Now we can call any function of Exception Sets\")\n",
    "exception_printer.IO_related_Exceptions()\n",
    "Hierarchy_log.info(\"Shutdown\")"
   ]
  },
  {
   "cell_type": "code",
   "execution_count": null,
   "id": "f322c9f8-9402-40f7-b2c0-e34cf0da022a",
   "metadata": {},
   "outputs": [],
   "source": [
    "logging.shutdown()"
   ]
  },
  {
   "cell_type": "markdown",
   "id": "0f9e4990-44fd-46ba-a943-136838656146",
   "metadata": {},
   "source": [
    "-------------------------------------------------------------------------------------------------------------------"
   ]
  },
  {
   "cell_type": "markdown",
   "id": "4fbef5dd-419e-45d4-b060-92640b5e5ad5",
   "metadata": {},
   "source": [
    "Q.No-03    What errors are defined in the ArithmeticError class? Explain any two with an example."
   ]
  },
  {
   "cell_type": "markdown",
   "id": "eabc3925-97a7-4f11-9e98-ea8c4d900e07",
   "metadata": {},
   "source": [
    "Ans:"
   ]
  },
  {
   "cell_type": "markdown",
   "id": "944ffbad-9acb-436d-91dd-2986f8f3ad85",
   "metadata": {},
   "source": [
    "The `ArithmeticError` class is the base class for exceptions that occur during arithmetic operations. It encompasses various specific arithmetic-related errors."
   ]
  },
  {
   "cell_type": "markdown",
   "id": "128ee906-1ca6-40c9-9466-5e1e115136e6",
   "metadata": {},
   "source": [
    " Here are two examples of errors defined within the `ArithmeticError` class:"
   ]
  },
  {
   "cell_type": "markdown",
   "id": "f5ce97ab-360e-406e-a1fb-8fc77b95fe9c",
   "metadata": {},
   "source": [
    "1. `OverflowError`: This error occurs when the result of an arithmetic operation is too large to be expressed within the available range of numbers in Python. It is raised when an arithmetic operation exceeds the maximum or minimum representable value for a numeric type."
   ]
  },
  {
   "cell_type": "code",
   "execution_count": 11,
   "id": "0cd02a68-25b8-4dfc-8ac8-59fbe4b2fc84",
   "metadata": {},
   "outputs": [
    {
     "name": "stdout",
     "output_type": "stream",
     "text": [
      "OverflowError occurred: int too large to convert to float\n"
     ]
    }
   ],
   "source": [
    "import logging\n",
    "Arithmetic_Error = logging.getLogger('Arithmetic_Error')\n",
    "Arithmetic_Error.setLevel(logging.INFO)\n",
    "file_handler2 = logging.FileHandler('Arithmetic_Error.log')\n",
    "file_handler2.setLevel(logging.INFO)\n",
    "formatter2 = logging.Formatter('%(name)s - %(levelname)s - %(message)s')\n",
    "file_handler2.setFormatter(formatter2)\n",
    "Arithmetic_Error.addHandler(file_handler2)\n",
    "\n",
    "\n",
    "Arithmetic_Error.info(\"Example of OverflowRrror\")\n",
    "Arithmetic_Error.info(\"Importing math Module\")\n",
    "import math\n",
    "\n",
    "a = 10**1000 # Trying to calculate a large number\n",
    "Arithmetic_Error.info(\"Taking 'a' as veriable \")\n",
    "\n",
    "Arithmetic_Error.info(\"Taking 'b' as resultant of the square of a\")\n",
    "b = a * a\n",
    "\n",
    "Arithmetic_Error.info(\"try to Tackel the Over_Flow_Error \")\n",
    "try:\n",
    "    result = math.exp(b)  # Performing a calculation that causes an overflow\n",
    "    print(result)\n",
    "except OverflowError as e:\n",
    "    Arithmetic_Error.error(e)\n",
    "    print(\"OverflowError occurred:\", e)"
   ]
  },
  {
   "cell_type": "markdown",
   "id": "f391b739-490a-4510-999f-dd6ce2837aa8",
   "metadata": {},
   "source": [
    "2. `ZeroDivisionError`: This error occurs when attempting to divide a number by zero. It is raised when the denominator of a division or modulo operation is zero."
   ]
  },
  {
   "cell_type": "code",
   "execution_count": 12,
   "id": "a7f9360f-169b-4abb-8c90-b5b814badbfe",
   "metadata": {},
   "outputs": [
    {
     "name": "stdout",
     "output_type": "stream",
     "text": [
      "ZeroDivisionError occurred: division by zero\n"
     ]
    }
   ],
   "source": [
    "Arithmetic_Error.info(\"Example of ZeroDivisionError\")\n",
    "\n",
    "a = 10\n",
    "b = 0\n",
    "Arithmetic_Error.info(\"Taking two veriable 'a' and 'b'\")\n",
    "\n",
    "Arithmetic_Error.info(\"Try to Tackel the Zero_Division_Error\")\n",
    "try:\n",
    "    result = a / b  \n",
    "    print(result)\n",
    "except ZeroDivisionError as f:\n",
    "    Arithmetic_Error.error(f)\n",
    "    print(\"ZeroDivisionError occurred:\", f)"
   ]
  },
  {
   "cell_type": "markdown",
   "id": "8e3a816f-d29a-417b-8958-4b779d4c2b79",
   "metadata": {},
   "source": [
    "-------------------------------------------------------------------------------------------------------------------"
   ]
  },
  {
   "cell_type": "markdown",
   "id": "89fcafc8-2d85-4085-b62e-ba2dcbf77175",
   "metadata": {},
   "source": [
    "Q.No-04    Why LookupError class is used? Explain with an example KeyError and IndexError."
   ]
  },
  {
   "cell_type": "markdown",
   "id": "c8c65d5a-4278-4a36-900b-16ee81e3f1b0",
   "metadata": {},
   "source": [
    "Ans:"
   ]
  },
  {
   "cell_type": "markdown",
   "id": "6e0c30d2-4c75-44e9-b680-44d704d5a81d",
   "metadata": {},
   "source": [
    "The `LookupError` class is used in Python to represent errors that occur when a lookup or indexing operation fails. It serves as a base class for more specific lookup-related error classes, such as `KeyError` and `IndexError`. "
   ]
  },
  {
   "cell_type": "markdown",
   "id": "8ea67525-743c-4b5a-9a71-a4e66cc0b5f0",
   "metadata": {},
   "source": [
    "`KeyError` is a subclass of `LookupError` that is raised when a dictionary key is not found. It occurs when you try to access a dictionary element using a key that does not exist in the dictionary. Here's an example:"
   ]
  },
  {
   "cell_type": "code",
   "execution_count": 13,
   "id": "dc9b1fcf-4a70-4278-95a6-682a64b4da2e",
   "metadata": {},
   "outputs": [
    {
     "name": "stdout",
     "output_type": "stream",
     "text": [
      "KeyError:  'grape'\n"
     ]
    }
   ],
   "source": [
    "import logging\n",
    "Lookup_Error = logging.getLogger('Lookup_Error')\n",
    "Lookup_Error.setLevel(logging.DEBUG)\n",
    "file_handler3 = logging.FileHandler('Lookup_Error.log')\n",
    "file_handler3.setLevel(logging.DEBUG)\n",
    "formatter3 = logging.Formatter('%(name)s - %(levelname)s - %(message)s')\n",
    "file_handler3.setFormatter(formatter3)\n",
    "Lookup_Error.addHandler(file_handler3)\n",
    "\n",
    "Lookup_Error.info(\"Example of KeyError\")\n",
    "my_dict = {\n",
    "    \"apple\": \"red\",\n",
    "    \"banana\": \"yellow\", \n",
    "    \"orange\": \"orange\"\n",
    "}\n",
    "\n",
    "Lookup_Error.info(\"Taking a Dictionary\")\n",
    "\n",
    "Lookup_Error.info(\"Try to Tackel Key_Error\")\n",
    "try:\n",
    "    value = my_dict[\"grape\"]\n",
    "    print(value)\n",
    "except KeyError as e:\n",
    "    Lookup_Error.error(e)\n",
    "    print('KeyError: ', e)"
   ]
  },
  {
   "cell_type": "markdown",
   "id": "74f3d197-da44-46ee-831f-d3dd1700a34b",
   "metadata": {},
   "source": [
    "`IndexError` is another subclass of `LookupError` that is raised when an index is out of range. It occurs when you try to access a list, tuple, or any sequence using an index that is either negative or greater than the length of the sequence. Here's an example:"
   ]
  },
  {
   "cell_type": "code",
   "execution_count": 14,
   "id": "9033446b-b804-4b62-b184-dd4e4bee206d",
   "metadata": {},
   "outputs": [
    {
     "name": "stdout",
     "output_type": "stream",
     "text": [
      "IndexError:  list index out of range\n"
     ]
    }
   ],
   "source": [
    "Lookup_Error.info(\"Example of IndexError\")\n",
    "my_list = [1, 2, 3]\n",
    "Lookup_Error.info(\"Taking a List\")\n",
    "\n",
    "Lookup_Error.info(\"Try to Tackel Index_Error\")\n",
    "try:\n",
    "    value = my_list[4]\n",
    "except IndexError as f:\n",
    "    Lookup_Error.error(f)\n",
    "    print('IndexError: ',f)"
   ]
  },
  {
   "cell_type": "markdown",
   "id": "9dfb1a24-eea4-4c17-983f-73893be2e3f5",
   "metadata": {},
   "source": [
    "-------------------------------------------------------------------------------------------------------------------"
   ]
  },
  {
   "cell_type": "markdown",
   "id": "14f00851-b2c3-454e-86a6-a7304afd2987",
   "metadata": {},
   "source": [
    "Q.No-05    Explain ImportError. What is ModuleNotFoundError?"
   ]
  },
  {
   "cell_type": "markdown",
   "id": "543077cb-8db6-47a5-b233-81b257413f77",
   "metadata": {},
   "source": [
    "Ans:"
   ]
  },
  {
   "cell_type": "markdown",
   "id": "2b554949-2988-4bee-a2dd-c4af3e7b11dc",
   "metadata": {},
   "source": [
    "`ImportError`: This exception is raised when an imported module fails to load or when a name in the `from ... import` statement cannot be found within the imported module. It is a more general exception that can be raised for various import-related errors."
   ]
  },
  {
   "cell_type": "markdown",
   "id": "b32fece4-506a-4218-a8ac-1a944d600b0b",
   "metadata": {},
   "source": [
    "`ModuleNotFoundError`: This exception is a subclass of `ImportError` and is specifically raised when a module cannot be found. It was introduced in Python 3.6 as a more precise and descriptive error message for cases where the specified module cannot be located or imported.\n"
   ]
  },
  {
   "cell_type": "markdown",
   "id": "300388eb-83d9-454b-9c48-3787a64b317d",
   "metadata": {},
   "source": [
    "Here are some common scenarios where these exceptions can occur:\n",
    "\n",
    "- The module or package is not installed: If you try to import a module or package that is not installed in your Python environment, you will encounter an `ImportError` or `ModuleNotFoundError`. In this case, you need to install the required module using a package manager like pip.\n",
    "\n",
    "- Incorrect module or package name: If you misspell the name of the module or package in your import statement, Python will raise an `ImportError` or `ModuleNotFoundError`. Double-check the spelling and ensure it matches the actual module or package name.\n",
    "\n",
    "- Incorrect import statement: If you're importing specific names from a module using the `from ... import` syntax, and the name you're trying to import does not exist within that module, an `ImportError` will be raised."
   ]
  },
  {
   "cell_type": "markdown",
   "id": "4bb2b7f6-164a-40dd-98e0-592874d90649",
   "metadata": {},
   "source": [
    "To handle these exceptions, you can use a try-except block to catch the error and handle it gracefully. For example:"
   ]
  },
  {
   "cell_type": "code",
   "execution_count": 15,
   "id": "8e8561e4-ae23-489d-9624-0c9528a6f8d7",
   "metadata": {},
   "outputs": [
    {
     "name": "stdout",
     "output_type": "stream",
     "text": [
      "Module 'my_module' not found or failed to import.\n",
      "No module named 'my_module'\n"
     ]
    }
   ],
   "source": [
    "import logging\n",
    "Import_Error = logging.getLogger('Import_Error')\n",
    "Import_Error.setLevel(logging.DEBUG)\n",
    "file_handler4 = logging.FileHandler('Import_Error.log')\n",
    "file_handler4.setLevel(logging.DEBUG)\n",
    "formatter4 = logging.Formatter('%(name)s - %(levelname)s - %(message)s')\n",
    "file_handler4.setFormatter(formatter4)\n",
    "Import_Error.addHandler(file_handler4)\n",
    "\n",
    "Import_Error.info(\"Try to Tackel Import_Error\")\n",
    "try:\n",
    "    import my_module\n",
    "except ImportError as e:\n",
    "    Import_Error.error(\"Module 'my_module' not found or failed to import.\")\n",
    "    Import_Error.error(e)\n",
    "    print(\"Module 'my_module' not found or failed to import.\")\n",
    "    print(e)"
   ]
  },
  {
   "cell_type": "markdown",
   "id": "94d35568-8f44-41f8-8b5f-6ec6ad23bdfb",
   "metadata": {},
   "source": [
    "-------------------------------------------------------------------------------------------------------------------"
   ]
  },
  {
   "cell_type": "markdown",
   "id": "e1bd7aad-4f98-4c61-b021-98fe3d16ee5d",
   "metadata": {},
   "source": [
    "Q.No-06    List down some best practices for exception handling in python. "
   ]
  },
  {
   "cell_type": "markdown",
   "id": "c182a7a1-4587-454b-9d3a-8740e0919548",
   "metadata": {},
   "source": [
    "Ans:"
   ]
  },
  {
   "cell_type": "markdown",
   "id": "f48fe0e1-ce67-46cd-8665-00b900adb381",
   "metadata": {},
   "source": [
    "Exception handling is an important aspect of writing robust and error-tolerant code in Python. Here are some best practices for exception handling in Python:"
   ]
  },
  {
   "cell_type": "code",
   "execution_count": 16,
   "id": "e076e0b8-6e17-45ae-b122-aedb79a241c7",
   "metadata": {},
   "outputs": [],
   "source": [
    "import logging\n",
    "Best_Practice = logging.getLogger('Best_Practice')\n",
    "Hierarchy_log.setLevel(logging.DEBUG)\n",
    "file_handler5 = logging.FileHandler('Best_Practice.log')\n",
    "file_handler5.setLevel(logging.DEBUG)\n",
    "formatter5 = logging.Formatter('%(name)s - %(levelname)s - %(message)s')\n",
    "file_handler5.setFormatter(formatter5)\n",
    "Best_Practice.addHandler(file_handler5)"
   ]
  },
  {
   "cell_type": "markdown",
   "id": "eef635a7-cee5-4d92-adbb-fcaad30a53fa",
   "metadata": {},
   "source": [
    "1. Be specific in catching exceptions: Catch only the exceptions that you expect and can handle effectively. Avoid catching broad exceptions like `Exception` as it can hide unexpected errors."
   ]
  },
  {
   "cell_type": "code",
   "execution_count": 17,
   "id": "ad5fe77a-8092-43b5-a481-83ce4d0101da",
   "metadata": {},
   "outputs": [
    {
     "name": "stdout",
     "output_type": "stream",
     "text": [
      "Exception Occured :  division by zero\n"
     ]
    }
   ],
   "source": [
    "a = 98\n",
    "b = 0\n",
    "\n",
    "try:\n",
    "    # Code that may raise a specific exception\n",
    "    result = a / b\n",
    "    print(result)\n",
    "except ZeroDivisionError as e:\n",
    "    # Handling code for the specific exception\n",
    "    print('Exception Occured : ',e)"
   ]
  },
  {
   "cell_type": "markdown",
   "id": "21b052d6-fd24-4ad2-8660-55e73810b1c5",
   "metadata": {},
   "source": [
    "2. Use multiple except blocks: If you anticipate different types of exceptions, use multiple except blocks to handle them individually. This allows you to provide specific error handling logic for each exception type."
   ]
  },
  {
   "cell_type": "code",
   "execution_count": 18,
   "id": "a38d0384-6533-4c74-96f7-237d8c483df7",
   "metadata": {},
   "outputs": [
    {
     "name": "stdout",
     "output_type": "stream",
     "text": [
      "TypeError Occured :  unsupported operand type(s) for +: 'int' and 'str'\n"
     ]
    }
   ],
   "source": [
    "a = 8\n",
    "b = 'a'\n",
    "\n",
    "try:\n",
    "    # Code that may raise different exceptions\n",
    "    result = a + b\n",
    "    print(result)\n",
    "except SyntaxError as e:\n",
    "    print('SyntaxError Occured : ',e)\n",
    "    # Handling code for the first exception    \n",
    "except TypeError as f:\n",
    "    # Handling code for the second exception\n",
    "    print('TypeError Occured : ',f)"
   ]
  },
  {
   "cell_type": "markdown",
   "id": "ab42bea0-90aa-40f8-849b-2199c15862d5",
   "metadata": {},
   "source": [
    "3. Handle exceptions gracefully: Provide meaningful error messages and handle exceptions in a way that gracefully recovers from the error or allows the program to exit gracefully. Avoid crashing the program without proper notification."
   ]
  },
  {
   "cell_type": "code",
   "execution_count": 19,
   "id": "6f0f2210-281d-42c9-9eb8-6a9da3199b3a",
   "metadata": {},
   "outputs": [
    {
     "name": "stdin",
     "output_type": "stream",
     "text": [
      "Enter the numerator:  22\n",
      "Enter the denominator:  w\n"
     ]
    },
    {
     "name": "stdout",
     "output_type": "stream",
     "text": [
      "Invalid input. Please enter a valid integer.\n",
      "End of program.\n"
     ]
    }
   ],
   "source": [
    "try:\n",
    "    # Code that may raise an exception\n",
    "    numerator = int(input(\"Enter the numerator: \"))\n",
    "    denominator = int(input(\"Enter the denominator: \"))\n",
    "    result = numerator / denominator\n",
    "    print(\"Result:\", result)\n",
    "\n",
    "except ValueError:\n",
    "    # Handling code for the Invalid Input (Like: Charecter. String or Special Charecter) \n",
    "    print(\"Invalid input. Please enter a valid integer.\") #Scenario 1: \n",
    "except ZeroDivisionError:\n",
    "    # Handling code for '0' value input \n",
    "    print(\"Error: Cannot divide by zero.\") #Scenario 2: \n",
    "except Exception as e:\n",
    "    # Handling code for the specific exception\n",
    "    print(\"An error occurred:\", str(e)) #Scenario 3:\n",
    "else:\n",
    "    print(\"Division successful.\") \n",
    "finally:\n",
    "    # Graceful recovery or program exit\n",
    "    print(\"End of program.\")"
   ]
  },
  {
   "cell_type": "markdown",
   "id": "3ece7dd1-b51c-4d00-8ade-69c9c92b5091",
   "metadata": {},
   "source": [
    "4. Use try-except-finally: Use the `try-except-finally` structure to catch exceptions and ensure that cleanup code (if any) is executed regardless of whether an exception occurs. The `finally` block is useful for releasing resources or closing files."
   ]
  },
  {
   "cell_type": "code",
   "execution_count": 20,
   "id": "0187e7b1-9252-42f1-a5de-1d3a0bbca31a",
   "metadata": {},
   "outputs": [
    {
     "name": "stdout",
     "output_type": "stream",
     "text": [
      "File not found.\n",
      "Finally, 'example2.txt' file is created \n"
     ]
    }
   ],
   "source": [
    "try:\n",
    "    # Code that may raise an exception\n",
    "    file1 = open(\"example.txt\", \"r\")\n",
    "    content1 = file.read()\n",
    "    print(content1)\n",
    "    file1.close()\n",
    "except FileNotFoundError:\n",
    "    # Handling code for the specific exception\n",
    "    print(\"File not found.\")\n",
    "finally:\n",
    "    # Cleanup code, e.g., closing files or releasing resources\n",
    "    file2 = open(\"example2.txt\",'w',)\n",
    "    file2.write(\"Hello!, World\")\n",
    "    file2.close()\n",
    "    print(\"Finally, 'example2.txt' file is created \")"
   ]
  },
  {
   "cell_type": "markdown",
   "id": "f2fb3de8-1da4-4ed3-930a-1d15963543f3",
   "metadata": {},
   "source": [
    "5. Avoid bare except statements: Avoid using bare except statements (`except:`) as they catch all exceptions, including system-exiting exceptions like `SystemExit` and `KeyboardInterrupt`. Instead, be specific about the exceptions you want to catch."
   ]
  },
  {
   "cell_type": "code",
   "execution_count": 21,
   "id": "b22347e7-e1f0-4118-84bf-66b2852eaf79",
   "metadata": {},
   "outputs": [
    {
     "name": "stdout",
     "output_type": "stream",
     "text": [
      "File not found.\n",
      "File closed.\n",
      "Execution complete.\n"
     ]
    }
   ],
   "source": [
    "try:\n",
    "    # Code that may raise an exception\n",
    "    file = open(\"example.txt\", \"r\")\n",
    "    content = file.read()\n",
    "    print(content)\n",
    "    file.close()\n",
    "except FileNotFoundError:\n",
    "    # Handling code for the specific exception\n",
    "     print(\"File not found.\")\n",
    "except IOError:\n",
    "    print(\"An error occurred while reading the file.\")\n",
    "except Exception as e:\n",
    "    # Handling code for other unexpected exceptions\n",
    "    print(\"An unexpected error occurred:\", str(e))\n",
    "finally:\n",
    "    print(\"File closed.\")\n",
    "    print(\"Execution complete.\") "
   ]
  },
  {
   "cell_type": "markdown",
   "id": "44a3953b-cf5c-41d7-a6db-10ac81af659b",
   "metadata": {},
   "source": [
    "6. Log or report exceptions: Logging exceptions can help in troubleshooting and debugging. Use the logging module to record exceptions and associated information. Alternatively, you can report exceptions to a monitoring service or send notifications to relevant parties."
   ]
  },
  {
   "cell_type": "code",
   "execution_count": 29,
   "id": "143d37ef-856a-42c1-ae8b-5059fc3f7e0d",
   "metadata": {},
   "outputs": [
    {
     "name": "stdout",
     "output_type": "stream",
     "text": [
      "An error occurred: division by zero\n"
     ]
    }
   ],
   "source": [
    "Best_Practice.info(\"Taking 'a' as first veriable\")\n",
    "a = 85\n",
    "Best_Practice.info(\"Taking 'b' as Second veriable\")\n",
    "b = 0\n",
    "\n",
    "try:\n",
    "    # Code that may raise an exception\n",
    "    result = a / b\n",
    "    print(result)\n",
    "except ZeroDivisionError as e:\n",
    "    # Handling code for the specific exception\n",
    "    Best_Practice.error(\"An error occurred:\", exc_info=True)\n",
    "    print(\"An error occurred:\",e)"
   ]
  },
  {
   "cell_type": "markdown",
   "id": "42ac0982-484b-4816-9738-b47f54a32ca4",
   "metadata": {},
   "source": [
    "7. Consider raising exceptions: Instead of suppressing or handling exceptions silently, consider raising exceptions when appropriate. This can provide better error visibility and allow the calling code to handle the exception appropriately."
   ]
  },
  {
   "cell_type": "code",
   "execution_count": 30,
   "id": "64c8dd76-106c-455c-8da1-78a303c4974a",
   "metadata": {},
   "outputs": [
    {
     "name": "stdout",
     "output_type": "stream",
     "text": [
      "An error occurred: Cannot divide by zero.\n"
     ]
    }
   ],
   "source": [
    "def divide_numbers(a, b):\n",
    "    if b == 0:\n",
    "        raise ValueError(\"Cannot divide by zero.\")\n",
    "    return a / b\n",
    "\n",
    "try:\n",
    "    result = divide_numbers(10, 0)\n",
    "    print(\"The result is:\", result)\n",
    "except ValueError as e:\n",
    "    print(\"An error occurred:\", str(e))\n"
   ]
  },
  {
   "cell_type": "markdown",
   "id": "f2e686d4-18b7-417d-aa8e-84fb3225e01f",
   "metadata": {},
   "source": [
    "8. Use context managers: Utilize context managers (e.g., `with` statements) to automatically handle resource allocation and release, ensuring that resources are properly managed and exceptions are handled correctly."
   ]
  },
  {
   "cell_type": "code",
   "execution_count": 31,
   "id": "01c79f01-16ec-4444-9800-2dea9c0b0463",
   "metadata": {},
   "outputs": [],
   "source": [
    "def read_file_contents(filename):\n",
    "    try:\n",
    "        with open(filename, 'r') as file:\n",
    "            contents = file.read()\n",
    "            print(\"File contents:\", contents)\n",
    "    except FileNotFoundError:\n",
    "        print(f\"File '{filename}' not found.\")\n",
    "    except Exception as e:\n",
    "        print(\"An error occurred:\", str(e))"
   ]
  },
  {
   "cell_type": "code",
   "execution_count": 32,
   "id": "6ff9cc42-6ce5-4599-bf52-dc67694085db",
   "metadata": {},
   "outputs": [
    {
     "name": "stdout",
     "output_type": "stream",
     "text": [
      "File 'myfile.txt' not found.\n"
     ]
    }
   ],
   "source": [
    "read_file_contents(\"myfile.txt\")"
   ]
  },
  {
   "cell_type": "code",
   "execution_count": 33,
   "id": "b2c2c343-180f-4eb6-bb74-6f7573930091",
   "metadata": {},
   "outputs": [
    {
     "name": "stdout",
     "output_type": "stream",
     "text": [
      "File contents: Hello!, World\n"
     ]
    }
   ],
   "source": [
    "read_file_contents(\"example2.txt\")"
   ]
  },
  {
   "cell_type": "markdown",
   "id": "bb2729fb-1b19-411b-aed2-ba486921eb00",
   "metadata": {},
   "source": [
    "9. Use specific exception types: Python provides a wide range of built-in exception types. Use the most appropriate exception type for the specific error scenario you encounter. If necessary, you can create custom exception classes for more specialized cases."
   ]
  },
  {
   "cell_type": "code",
   "execution_count": 35,
   "id": "0f884031-dcf0-49cc-b806-59a7abfbb046",
   "metadata": {},
   "outputs": [
    {
     "name": "stdin",
     "output_type": "stream",
     "text": [
      "Enter a number:  -89\n"
     ]
    },
    {
     "name": "stdout",
     "output_type": "stream",
     "text": [
      "Custom exception occurred: Negative numbers are not allowed!\n"
     ]
    }
   ],
   "source": [
    "class CustomException(Exception):\n",
    "    def __init__(self, message):\n",
    "        self.message = message\n",
    "        super().__init__(self.message)\n",
    "\n",
    "try:\n",
    "    # Some code that may raise the custom exception\n",
    "    num = int(input(\"Enter a number: \"))\n",
    "    \n",
    "    if num < 0:\n",
    "        raise CustomException(\"Negative numbers are not allowed!\")\n",
    "    \n",
    "    print(f\"The number entered is: {num}\")\n",
    "\n",
    "except CustomException as e:\n",
    "     # Handling code for the custom exception\n",
    "    print(f\"Custom exception occurred: {e}\")"
   ]
  },
  {
   "cell_type": "markdown",
   "id": "504e8d0f-303e-465b-b4cc-e4cb0762f4ad",
   "metadata": {},
   "source": [
    "10. Test exception handling: Write test cases to validate your exception handling code. Ensure that the code behaves as expected when exceptions are raised and handled. This helps catch any potential issues and ensures robustness."
   ]
  },
  {
   "cell_type": "code",
   "execution_count": 38,
   "id": "8efea35f-414e-497c-90e4-80793d4b177d",
   "metadata": {},
   "outputs": [
    {
     "name": "stdout",
     "output_type": "stream",
     "text": [
      "The result of 10 divided by 2 is: 5.0\n",
      "Error: Cannot divide by zero!\n",
      "Error: Invalid operand type!\n"
     ]
    },
    {
     "ename": "TypeError",
     "evalue": "divide_numbers() missing 1 required positional argument: 'b'",
     "output_type": "error",
     "traceback": [
      "\u001b[0;31m---------------------------------------------------------------------------\u001b[0m",
      "\u001b[0;31mTypeError\u001b[0m                                 Traceback (most recent call last)",
      "Cell \u001b[0;32mIn[38], line 17\u001b[0m\n\u001b[1;32m     15\u001b[0m divide_numbers(\u001b[38;5;241m10\u001b[39m, \u001b[38;5;241m0\u001b[39m)  \u001b[38;5;66;03m# Division by zero\u001b[39;00m\n\u001b[1;32m     16\u001b[0m divide_numbers(\u001b[38;5;241m10\u001b[39m, \u001b[38;5;124m\"\u001b[39m\u001b[38;5;124m2\u001b[39m\u001b[38;5;124m\"\u001b[39m)  \u001b[38;5;66;03m# Invalid operand type\u001b[39;00m\n\u001b[0;32m---> 17\u001b[0m \u001b[43mdivide_numbers\u001b[49m\u001b[43m(\u001b[49m\u001b[38;5;241;43m10\u001b[39;49m\u001b[43m)\u001b[49m  \u001b[38;5;66;03m# Missing operand\u001b[39;00m\n",
      "\u001b[0;31mTypeError\u001b[0m: divide_numbers() missing 1 required positional argument: 'b'"
     ]
    }
   ],
   "source": [
    "def divide_numbers(a, b):\n",
    "    try:\n",
    "        result = a / b\n",
    "        print(f\"The result of {a} divided by {b} is: {result}\")\n",
    "    except ZeroDivisionError:\n",
    "        print(\"Error: Cannot divide by zero!\")\n",
    "    except TypeError:\n",
    "        print(\"Error: Invalid operand type!\")\n",
    "    except Exception as e:\n",
    "        print(f\"An unexpected error occurred: {e}\")\n",
    "\n",
    "\n",
    "# Test cases\n",
    "divide_numbers(10, 2)  # Normal division\n",
    "divide_numbers(10, 0)  # Division by zero\n",
    "divide_numbers(10, \"2\")  # Invalid operand type\n",
    "divide_numbers(10)  # Missing operand"
   ]
  },
  {
   "cell_type": "code",
   "execution_count": null,
   "id": "5d4babdb-6dfe-4217-b95a-caa7b86880fc",
   "metadata": {},
   "outputs": [],
   "source": []
  },
  {
   "cell_type": "code",
   "execution_count": null,
   "id": "d920ae4d-405d-4053-a9fe-80e40d30975d",
   "metadata": {},
   "outputs": [],
   "source": []
  }
 ],
 "metadata": {
  "kernelspec": {
   "display_name": "Python 3 (ipykernel)",
   "language": "python",
   "name": "python3"
  },
  "language_info": {
   "codemirror_mode": {
    "name": "ipython",
    "version": 3
   },
   "file_extension": ".py",
   "mimetype": "text/x-python",
   "name": "python",
   "nbconvert_exporter": "python",
   "pygments_lexer": "ipython3",
   "version": "3.10.8"
  }
 },
 "nbformat": 4,
 "nbformat_minor": 5
}
